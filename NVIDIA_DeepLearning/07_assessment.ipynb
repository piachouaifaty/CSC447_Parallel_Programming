{
  "cells": [
    {
      "cell_type": "markdown",
      "metadata": {
        "id": "view-in-github",
        "colab_type": "text"
      },
      "source": [
        "<a href=\"https://colab.research.google.com/github/piachouaifaty/CSC447_Parallel_Programming/blob/master/NVIDIA_DeepLearning/07_assessment.ipynb\" target=\"_parent\"><img src=\"https://colab.research.google.com/assets/colab-badge.svg\" alt=\"Open In Colab\"/></a>"
      ]
    },
    {
      "cell_type": "markdown",
      "metadata": {
        "id": "SuF50zrCOQe3"
      },
      "source": [
        "<center><a href=\"https://www.nvidia.com/dli\"> <img src=\"https://github.com/piachouaifaty/CSC447_Parallel_Programming/blob/master/NVIDIA_DeepLearning/images/DLI_Header.png?raw=1\" alt=\"Header\" style=\"width: 400px;\"/> </a></center>"
      ]
    },
    {
      "cell_type": "markdown",
      "metadata": {
        "id": "Dem40kE8OQe7"
      },
      "source": [
        "# Assessment (TEST)"
      ]
    },
    {
      "cell_type": "markdown",
      "metadata": {
        "id": "FUukl5qlOQe7"
      },
      "source": [
        "Congratulations on going through today's course! Hopefully, you've learned some valuable skills along the way and had fun doing it. Now it's time to put those skills to the test. In this assessment, you will train a new model that is able to recognize fresh and rotten fruit. You will need to get the model to a validation accuracy of `92%` in order to pass the assessment, though we challenge you to do even better if you can. You will have the use the skills that you learned in the previous exercises. Specifically, we suggest using some combination of transfer learning, data augmentation, and fine tuning. Once you have trained the model to be at least 92% accurate on the validation dataset, save your model, and then assess its accuracy. Let's get started! "
      ]
    },
    {
      "cell_type": "markdown",
      "metadata": {
        "id": "Iy70tN7IOQe8"
      },
      "source": [
        "## The Dataset"
      ]
    },
    {
      "cell_type": "markdown",
      "metadata": {
        "id": "Ajag4Kk_OQe8"
      },
      "source": [
        "In this exercise, you will train a model to recognize fresh and rotten fruits. The dataset comes from [Kaggle](https://www.kaggle.com/sriramr/fruits-fresh-and-rotten-for-classification), a great place to go if you're interested in starting a project after this class. The dataset structure is in the `data/fruits` folder. There are 6 categories of fruits: fresh apples, fresh oranges, fresh bananas, rotten apples, rotten oranges, and rotten bananas. This will mean that your model will require an output layer of 6 neurons to do the categorization successfully. You'll also need to compile the model with `categorical_crossentropy`, as we have more than two categories."
      ]
    },
    {
      "cell_type": "markdown",
      "metadata": {
        "id": "DRshWTlZOQe9"
      },
      "source": [
        "<img src=\"https://github.com/piachouaifaty/CSC447_Parallel_Programming/blob/master/NVIDIA_DeepLearning/images/fruits.png?raw=1\" style=\"width: 600px;\">"
      ]
    },
    {
      "cell_type": "markdown",
      "metadata": {
        "id": "EJe5QOhCOQe9"
      },
      "source": [
        "## Load ImageNet Base Model"
      ]
    },
    {
      "cell_type": "markdown",
      "metadata": {
        "id": "xZuyQ9xwOQe9"
      },
      "source": [
        "We encourage you to start with a model pretrained on ImageNet. Load the model with the correct weights, set an input shape, and choose to remove the last layers of the model. Remember that images have three dimensions: a height, and width, and a number of channels. Because these pictures are in color, there will be three channels for red, green, and blue. We've filled in the input shape for you. This cannot be changed or the assessment will fail. If you need a reference for setting up the pretrained model, please take a look at [notebook 05b](05b_presidential_doggy_door.ipynb) where we implemented transfer learning."
      ]
    },
    {
      "cell_type": "code",
      "execution_count": null,
      "metadata": {
        "id": "dpjFzJEJOQe-",
        "outputId": "b275c37f-61cf-40e9-d91a-740ba95bc07a"
      },
      "outputs": [
        {
          "name": "stdout",
          "output_type": "stream",
          "text": [
            "Downloading data from https://storage.googleapis.com/tensorflow/keras-applications/vgg16/vgg16_weights_tf_dim_ordering_tf_kernels_notop.h5\n",
            "58892288/58889256 [==============================] - 1s 0us/step\n"
          ]
        }
      ],
      "source": [
        "from tensorflow import keras\n",
        "\n",
        "base_model = keras.applications.VGG16(\n",
        "    weights='imagenet',\n",
        "    input_shape=(224, 224, 3),\n",
        "    include_top=False)"
      ]
    },
    {
      "cell_type": "markdown",
      "metadata": {
        "id": "lgy7vLPKOQfA"
      },
      "source": [
        "## Freeze Base Model"
      ]
    },
    {
      "cell_type": "markdown",
      "metadata": {
        "id": "CjHePEnjOQfB"
      },
      "source": [
        "Next, we suggest freezing the base model, as done in [notebook 05b](05b_presidential_doggy_door.ipynb). This is done so that all the learning from the ImageNet dataset does not get destroyed in the initial training."
      ]
    },
    {
      "cell_type": "code",
      "execution_count": null,
      "metadata": {
        "id": "YKBX9md_OQfB"
      },
      "outputs": [],
      "source": [
        "# Freeze base model\n",
        "base_model.trainable = False"
      ]
    },
    {
      "cell_type": "markdown",
      "metadata": {
        "id": "yZVrW-SJOQfB"
      },
      "source": [
        "## Add Layers to Model"
      ]
    },
    {
      "cell_type": "markdown",
      "metadata": {
        "id": "TdPVTIVcOQfC"
      },
      "source": [
        "Now it's time to add layers to the pretrained model. [Notebook 05b](05b_presidential_doggy_door.ipynb) can be used as a guide. Pay close attention to the last dense layer and make sure it has the correct number of neurons to classify the different types of fruit."
      ]
    },
    {
      "cell_type": "code",
      "execution_count": null,
      "metadata": {
        "id": "5yYaUvSUOQfC"
      },
      "outputs": [],
      "source": [
        "# Create inputs with correct shape\n",
        "inputs = keras.Input(shape=(224, 224, 3))\n",
        "\n",
        "x = base_model(inputs, training=False)\n",
        "\n",
        "# Add pooling layer or flatten layer\n",
        "x = keras.layers.GlobalAveragePooling2D()(x)\n",
        "\n",
        "# Add final dense layer\n",
        "outputs = keras.layers.Dense(6, activation = 'softmax')(x)\n",
        "\n",
        "# Combine inputs and outputs to create model\n",
        "model = keras.Model(inputs, outputs)"
      ]
    },
    {
      "cell_type": "code",
      "execution_count": null,
      "metadata": {
        "id": "l2B2-XUyOQfD",
        "outputId": "b04ee4a7-c986-41af-a9b5-2ebd41a8c457"
      },
      "outputs": [
        {
          "name": "stdout",
          "output_type": "stream",
          "text": [
            "Model: \"model\"\n",
            "_________________________________________________________________\n",
            "Layer (type)                 Output Shape              Param #   \n",
            "=================================================================\n",
            "input_2 (InputLayer)         [(None, 224, 224, 3)]     0         \n",
            "_________________________________________________________________\n",
            "vgg16 (Model)                (None, 7, 7, 512)         14714688  \n",
            "_________________________________________________________________\n",
            "global_average_pooling2d (Gl (None, 512)               0         \n",
            "_________________________________________________________________\n",
            "dense (Dense)                (None, 6)                 3078      \n",
            "=================================================================\n",
            "Total params: 14,717,766\n",
            "Trainable params: 3,078\n",
            "Non-trainable params: 14,714,688\n",
            "_________________________________________________________________\n"
          ]
        }
      ],
      "source": [
        "model.summary()"
      ]
    },
    {
      "cell_type": "markdown",
      "metadata": {
        "id": "xJkdSbHNOQfD"
      },
      "source": [
        "## Compile Model"
      ]
    },
    {
      "cell_type": "markdown",
      "metadata": {
        "id": "e99KoGZaOQfE"
      },
      "source": [
        "Now it's time to compile the model with loss and metrics options. Remember that we're training on a number of different categories, rather than a binary classification problem."
      ]
    },
    {
      "cell_type": "code",
      "execution_count": null,
      "metadata": {
        "id": "DuKGDgnxOQfE"
      },
      "outputs": [],
      "source": [
        "model.compile(loss='categorical_crossentropy', metrics=['accuracy'])"
      ]
    },
    {
      "cell_type": "markdown",
      "metadata": {
        "id": "C6QLMviQOQfE"
      },
      "source": [
        "## Augment the Data"
      ]
    },
    {
      "cell_type": "markdown",
      "metadata": {
        "id": "LUO2esk1OQfF"
      },
      "source": [
        "If you'd like, try to augment the data to improve the dataset. Feel free to look at [notebook 04a](04a_asl_augmentation.ipynb) and [notebook 05b](05b_presidential_doggy_door.ipynb) for augmentation examples. There is also documentation for the [Keras ImageDataGenerator class](https://keras.io/api/preprocessing/image/#imagedatagenerator-class). This step is optional, but it may be helpful to get to 92% accuracy."
      ]
    },
    {
      "cell_type": "code",
      "execution_count": null,
      "metadata": {
        "id": "wMYk9fyUOQfF"
      },
      "outputs": [],
      "source": [
        "from tensorflow.keras.preprocessing.image import ImageDataGenerator\n",
        "\n",
        "datagen_train = ImageDataGenerator(\n",
        "    samplewise_center=True,  # set each sample mean to 0\n",
        "    zoom_range=0.1,  # Randomly zoom image\n",
        "    width_shift_range=0.1,  #  shift images horizontally random, fraction of width\n",
        "    height_shift_range=0.1,  # shift images vertically random, fraction of height\n",
        "    rotation_range=10,  # randomly rotate images in the range (degrees, 0 to 180)\n",
        "    horizontal_flip=True,  # flip randomly\n",
        "    vertical_flip=False,\n",
        ")\n",
        "datagen_valid = ImageDataGenerator(samplewise_center=True)"
      ]
    },
    {
      "cell_type": "markdown",
      "metadata": {
        "id": "xwdrjsHFOQfG"
      },
      "source": [
        "## Load Dataset"
      ]
    },
    {
      "cell_type": "markdown",
      "metadata": {
        "id": "lhP8BQHsOQfG"
      },
      "source": [
        "Now it's time to load the train and validation datasets. Pick the right folders, as well as the right `target_size` of the images (it needs to match the height and width input of the model you've created). For a reference, check out [notebook 05b](05b_presidential_doggy_door.ipynb)."
      ]
    },
    {
      "cell_type": "code",
      "execution_count": null,
      "metadata": {
        "id": "f3tOAbCGOQfG",
        "outputId": "83a4269f-a07e-44f0-ce44-739b331c832a"
      },
      "outputs": [
        {
          "name": "stdout",
          "output_type": "stream",
          "text": [
            "Found 1182 images belonging to 6 classes.\n",
            "Found 329 images belonging to 6 classes.\n"
          ]
        }
      ],
      "source": [
        "# load and iterate training dataset\n",
        "train_it = datagen_train.flow_from_directory(\n",
        "    \"data/fruits/train/\",\n",
        "    target_size=(224, 224),\n",
        "    color_mode=\"rgb\",\n",
        "    class_mode=\"categorical\",\n",
        ")\n",
        "# load and iterate validation dataset\n",
        "valid_it = datagen_valid.flow_from_directory(\n",
        "    \"data/fruits/valid/\",\n",
        "    target_size=(224, 224),\n",
        "    color_mode=\"rgb\",\n",
        "    class_mode=\"categorical\",\n",
        ")"
      ]
    },
    {
      "cell_type": "markdown",
      "metadata": {
        "id": "LyWqJ5RAOQfH"
      },
      "source": [
        "## Train the Model"
      ]
    },
    {
      "cell_type": "markdown",
      "metadata": {
        "id": "h2gJ3IXnOQfH"
      },
      "source": [
        "Time to train the model! Pass the `train` and `valid` iterators into the `fit` function, as well as setting the desired number of epochs."
      ]
    },
    {
      "cell_type": "code",
      "execution_count": null,
      "metadata": {
        "id": "aAt7GMBhOQfH",
        "outputId": "a5612542-40f3-4bb1-e6ca-8dba3043f550"
      },
      "outputs": [
        {
          "name": "stdout",
          "output_type": "stream",
          "text": [
            "Epoch 1/25\n",
            "37/36 [==============================] - 25s 665ms/step - loss: 2.9856 - accuracy: 0.4179 - val_loss: 1.2666 - val_accuracy: 0.6565\n",
            "Epoch 2/25\n",
            "37/36 [==============================] - 17s 458ms/step - loss: 0.7673 - accuracy: 0.7555 - val_loss: 0.7023 - val_accuracy: 0.8055\n",
            "Epoch 3/25\n",
            "37/36 [==============================] - 17s 455ms/step - loss: 0.3548 - accuracy: 0.8773 - val_loss: 0.3885 - val_accuracy: 0.8602\n",
            "Epoch 4/25\n",
            "37/36 [==============================] - 17s 454ms/step - loss: 0.2130 - accuracy: 0.9264 - val_loss: 0.3082 - val_accuracy: 0.8906\n",
            "Epoch 5/25\n",
            "37/36 [==============================] - 17s 455ms/step - loss: 0.1715 - accuracy: 0.9459 - val_loss: 0.2851 - val_accuracy: 0.9210\n",
            "Epoch 6/25\n",
            "37/36 [==============================] - 17s 451ms/step - loss: 0.1112 - accuracy: 0.9653 - val_loss: 0.2534 - val_accuracy: 0.9179\n",
            "Epoch 7/25\n",
            "37/36 [==============================] - 17s 453ms/step - loss: 0.1051 - accuracy: 0.9594 - val_loss: 0.2031 - val_accuracy: 0.9240\n",
            "Epoch 8/25\n",
            "37/36 [==============================] - 17s 455ms/step - loss: 0.0871 - accuracy: 0.9729 - val_loss: 0.2051 - val_accuracy: 0.9422\n",
            "Epoch 9/25\n",
            "37/36 [==============================] - 17s 454ms/step - loss: 0.0678 - accuracy: 0.9797 - val_loss: 0.2095 - val_accuracy: 0.9422\n",
            "Epoch 10/25\n",
            "37/36 [==============================] - 17s 449ms/step - loss: 0.0535 - accuracy: 0.9822 - val_loss: 0.1873 - val_accuracy: 0.9514\n",
            "Epoch 11/25\n",
            "37/36 [==============================] - 17s 447ms/step - loss: 0.0461 - accuracy: 0.9856 - val_loss: 0.2379 - val_accuracy: 0.9453\n",
            "Epoch 12/25\n",
            "37/36 [==============================] - 17s 455ms/step - loss: 0.0427 - accuracy: 0.9890 - val_loss: 0.1883 - val_accuracy: 0.9483\n",
            "Epoch 13/25\n",
            "37/36 [==============================] - 17s 452ms/step - loss: 0.0363 - accuracy: 0.9873 - val_loss: 0.1947 - val_accuracy: 0.9544\n",
            "Epoch 14/25\n",
            "37/36 [==============================] - 17s 452ms/step - loss: 0.0273 - accuracy: 0.9915 - val_loss: 0.2167 - val_accuracy: 0.9362\n",
            "Epoch 15/25\n",
            "37/36 [==============================] - 17s 455ms/step - loss: 0.0260 - accuracy: 0.9915 - val_loss: 0.2498 - val_accuracy: 0.9453\n",
            "Epoch 16/25\n",
            "37/36 [==============================] - 17s 457ms/step - loss: 0.0246 - accuracy: 0.9907 - val_loss: 0.2314 - val_accuracy: 0.9574\n",
            "Epoch 17/25\n",
            "37/36 [==============================] - 17s 450ms/step - loss: 0.0154 - accuracy: 0.9966 - val_loss: 0.2307 - val_accuracy: 0.9514\n",
            "Epoch 18/25\n",
            "37/36 [==============================] - 17s 452ms/step - loss: 0.0204 - accuracy: 0.9932 - val_loss: 0.1516 - val_accuracy: 0.9635\n",
            "Epoch 19/25\n",
            "37/36 [==============================] - 17s 455ms/step - loss: 0.0191 - accuracy: 0.9949 - val_loss: 0.1769 - val_accuracy: 0.9574\n",
            "Epoch 20/25\n",
            "37/36 [==============================] - 17s 455ms/step - loss: 0.0172 - accuracy: 0.9949 - val_loss: 0.2168 - val_accuracy: 0.9605\n",
            "Epoch 21/25\n",
            "37/36 [==============================] - 17s 451ms/step - loss: 0.0165 - accuracy: 0.9949 - val_loss: 0.2346 - val_accuracy: 0.9483\n",
            "Epoch 22/25\n",
            "37/36 [==============================] - 17s 448ms/step - loss: 0.0103 - accuracy: 1.0000 - val_loss: 0.1918 - val_accuracy: 0.9605\n",
            "Epoch 23/25\n",
            "37/36 [==============================] - 17s 454ms/step - loss: 0.0131 - accuracy: 0.9975 - val_loss: 0.1780 - val_accuracy: 0.9605\n",
            "Epoch 24/25\n",
            "37/36 [==============================] - 17s 454ms/step - loss: 0.0090 - accuracy: 0.9975 - val_loss: 0.1505 - val_accuracy: 0.9666\n",
            "Epoch 25/25\n",
            "37/36 [==============================] - 17s 453ms/step - loss: 0.0134 - accuracy: 0.9958 - val_loss: 0.2436 - val_accuracy: 0.9514\n"
          ]
        },
        {
          "data": {
            "text/plain": [
              "<tensorflow.python.keras.callbacks.History at 0x7fe7cbae9160>"
            ]
          },
          "execution_count": 11,
          "metadata": {},
          "output_type": "execute_result"
        }
      ],
      "source": [
        "model.fit(train_it,\n",
        "          validation_data=valid_it,\n",
        "          steps_per_epoch=train_it.samples/train_it.batch_size,\n",
        "          validation_steps=valid_it.samples/valid_it.batch_size,\n",
        "          epochs=25)"
      ]
    },
    {
      "cell_type": "markdown",
      "metadata": {
        "id": "cCh0DtkZOQfI"
      },
      "source": [
        "## Unfreeze Model for Fine Tuning"
      ]
    },
    {
      "cell_type": "markdown",
      "metadata": {
        "id": "5ByCDJo5OQfI"
      },
      "source": [
        "If you have reached 92% validation accuracy already, this next step is optional. If not, we suggest fine tuning the model with a very low learning rate."
      ]
    },
    {
      "cell_type": "code",
      "execution_count": null,
      "metadata": {
        "id": "NgcBfc9ZOQfI"
      },
      "outputs": [],
      "source": [
        "#reached accuracy already\n",
        "# Unfreeze the base model\n",
        "base_model.trainable = True\n",
        "#true to unfreeze\n",
        "\n",
        "# Compile the model with a low learning rate\n",
        "model.compile(optimizer=keras.optimizers.RMSprop(learning_rate = 0.0001),\n",
        "              loss = 'categorical_crossentropy' , metrics = ['accuracy'])\n"
      ]
    },
    {
      "cell_type": "code",
      "execution_count": null,
      "metadata": {
        "id": "xI7Qdm2WOQfJ",
        "outputId": "a1b583a8-967f-4202-c578-ae3e6acbef70"
      },
      "outputs": [
        {
          "name": "stdout",
          "output_type": "stream",
          "text": [
            "Epoch 1/15\n",
            "37/36 [==============================] - 30s 810ms/step - loss: 7.9944 - accuracy: 0.3299 - val_loss: 1.3051 - val_accuracy: 0.4681\n",
            "Epoch 2/15\n",
            "37/36 [==============================] - 20s 542ms/step - loss: 1.4441 - accuracy: 0.4645 - val_loss: 1.0746 - val_accuracy: 0.5927\n",
            "Epoch 3/15\n",
            "37/36 [==============================] - 18s 491ms/step - loss: 1.1091 - accuracy: 0.5939 - val_loss: 0.4867 - val_accuracy: 0.8116\n",
            "Epoch 4/15\n",
            "37/36 [==============================] - 17s 469ms/step - loss: 0.7555 - accuracy: 0.7453 - val_loss: 0.5802 - val_accuracy: 0.8055\n",
            "Epoch 5/15\n",
            "37/36 [==============================] - 18s 480ms/step - loss: 0.8443 - accuracy: 0.7259 - val_loss: 1.0213 - val_accuracy: 0.7842\n",
            "Epoch 6/15\n",
            "37/36 [==============================] - 18s 491ms/step - loss: 0.5287 - accuracy: 0.8266 - val_loss: 0.2785 - val_accuracy: 0.8815\n",
            "Epoch 7/15\n",
            "37/36 [==============================] - 18s 477ms/step - loss: 0.3608 - accuracy: 0.8765 - val_loss: 0.1824 - val_accuracy: 0.9574\n",
            "Epoch 8/15\n",
            "37/36 [==============================] - 18s 475ms/step - loss: 0.3144 - accuracy: 0.8824 - val_loss: 0.7592 - val_accuracy: 0.8754\n",
            "Epoch 9/15\n",
            "37/36 [==============================] - 18s 493ms/step - loss: 0.4938 - accuracy: 0.8486 - val_loss: 0.2183 - val_accuracy: 0.9362\n",
            "Epoch 10/15\n",
            "37/36 [==============================] - 18s 483ms/step - loss: 0.5602 - accuracy: 0.8621 - val_loss: 0.1156 - val_accuracy: 0.9635\n",
            "Epoch 11/15\n",
            "37/36 [==============================] - 18s 488ms/step - loss: 0.2937 - accuracy: 0.9137 - val_loss: 0.2735 - val_accuracy: 0.8936\n",
            "Epoch 12/15\n",
            "37/36 [==============================] - 18s 492ms/step - loss: 0.2166 - accuracy: 0.9433 - val_loss: 1.6195 - val_accuracy: 0.7356\n",
            "Epoch 13/15\n",
            "37/36 [==============================] - 18s 489ms/step - loss: 0.3228 - accuracy: 0.9027 - val_loss: 0.2890 - val_accuracy: 0.9331\n",
            "Epoch 14/15\n",
            "37/36 [==============================] - 18s 485ms/step - loss: 0.1796 - accuracy: 0.9450 - val_loss: 1.2107 - val_accuracy: 0.8116\n",
            "Epoch 15/15\n",
            "37/36 [==============================] - 18s 483ms/step - loss: 0.5624 - accuracy: 0.8976 - val_loss: 0.2107 - val_accuracy: 0.9635\n"
          ]
        },
        {
          "data": {
            "text/plain": [
              "<tensorflow.python.keras.callbacks.History at 0x7fe7b6702518>"
            ]
          },
          "execution_count": 13,
          "metadata": {},
          "output_type": "execute_result"
        }
      ],
      "source": [
        "model.fit(train_it,\n",
        "          validation_data=valid_it,\n",
        "          steps_per_epoch=train_it.samples/train_it.batch_size,\n",
        "          validation_steps=valid_it.samples/valid_it.batch_size,\n",
        "          epochs=15)"
      ]
    },
    {
      "cell_type": "markdown",
      "metadata": {
        "id": "aAg9qz90OQfK"
      },
      "source": [
        "## Evaluate the Model"
      ]
    },
    {
      "cell_type": "markdown",
      "metadata": {
        "id": "rciLkKb4OQfL"
      },
      "source": [
        "Hopefully, you now have a model that has a validation accuracy of 92% or higher. If not, you may want to go back and either run more epochs of training, or adjust your data augmentation. \n",
        "\n",
        "Once you are satisfied with the validation accuracy, evaluate the model by executing the following cell. The evaluate function will return a tuple, where the first value is your loss, and the second value is your accuracy. To pass, the model will need have an accuracy value of `92% or higher`. "
      ]
    },
    {
      "cell_type": "code",
      "execution_count": null,
      "metadata": {
        "id": "kKK45nhhOQfL"
      },
      "outputs": [],
      "source": [
        "model.evaluate(valid_it, steps=valid_it.samples/valid_it.batch_size)"
      ]
    },
    {
      "cell_type": "markdown",
      "metadata": {
        "id": "nl9ghURVOQfM"
      },
      "source": [
        "## Run the Assessment"
      ]
    },
    {
      "cell_type": "markdown",
      "metadata": {
        "id": "KNYpIW9NOQfM"
      },
      "source": [
        "To assess your model run the following two cells.\n",
        "\n",
        "**NOTE:** `run_assessment` assumes your model is named `model` and your validation data iterator is called `valid_it`. If for any reason you have modified these variable names, please update the names of the arguments passed to `run_assessment`."
      ]
    },
    {
      "cell_type": "code",
      "execution_count": null,
      "metadata": {
        "id": "bjLaURDwOQfM"
      },
      "outputs": [],
      "source": [
        "from run_assessment import run_assessment"
      ]
    },
    {
      "cell_type": "code",
      "execution_count": null,
      "metadata": {
        "id": "ebB9H7fPOQfN"
      },
      "outputs": [],
      "source": [
        "run_assessment(model, valid_it)"
      ]
    },
    {
      "cell_type": "markdown",
      "metadata": {
        "id": "IDlRLhG9OQfN"
      },
      "source": [
        "## Generate a Certificate"
      ]
    },
    {
      "cell_type": "markdown",
      "metadata": {
        "id": "TZwZr9wKOQfN"
      },
      "source": [
        "If you passed the assessment, please return to the course page (shown below) and click the \"ASSESS TASK\" button, which will generate your certificate for the course."
      ]
    },
    {
      "cell_type": "markdown",
      "metadata": {
        "id": "eyfg3pxZOQfO"
      },
      "source": [
        "<img src=\"https://github.com/piachouaifaty/CSC447_Parallel_Programming/blob/master/NVIDIA_DeepLearning/images/assess_task.png?raw=1\" style=\"width: 800px;\">"
      ]
    },
    {
      "cell_type": "markdown",
      "metadata": {
        "id": "Q0Crb8vTOQfO"
      },
      "source": [
        "<center><a href=\"https://www.nvidia.com/dli\"> <img src=\"https://github.com/piachouaifaty/CSC447_Parallel_Programming/blob/master/NVIDIA_DeepLearning/images/DLI_Header.png?raw=1\" alt=\"Header\" style=\"width: 400px;\"/> </a></center>"
      ]
    }
  ],
  "metadata": {
    "kernelspec": {
      "display_name": "Python 3",
      "language": "python",
      "name": "python3"
    },
    "language_info": {
      "codemirror_mode": {
        "name": "ipython",
        "version": 3
      },
      "file_extension": ".py",
      "mimetype": "text/x-python",
      "name": "python",
      "nbconvert_exporter": "python",
      "pygments_lexer": "ipython3",
      "version": "3.6.9"
    },
    "colab": {
      "name": "07_assessment.ipynb",
      "provenance": [],
      "include_colab_link": true
    }
  },
  "nbformat": 4,
  "nbformat_minor": 0
}